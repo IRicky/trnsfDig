{
 "cells": [
  {
   "cell_type": "code",
   "execution_count": 2,
   "metadata": {},
   "outputs": [
    {
     "data": {
      "application/vnd.jupyter.widget-view+json": {
       "model_id": "8e802c050cb24b77a20c77c4c8bb6a37",
       "version_major": 2,
       "version_minor": 0
      },
      "text/plain": [
       "MapView(layout=Layout(height='400px', width='100%'), mode='3D')"
      ]
     },
     "metadata": {},
     "output_type": "display_data"
    },
    {
     "data": {
      "text/html": [
       "<div class=\"map-static-img-preview-1831e485-43c0-43f6-a3c5-6a85744af5f7\"><img src=\"\"></img></div>"
      ],
      "text/plain": [
       "<IPython.core.display.HTML object>"
      ]
     },
     "metadata": {},
     "output_type": "display_data"
    }
   ],
   "source": [
    "from arcgis.gis import GIS\n",
    "\n",
    "def print_map_info(map):\n",
    "    print(\"Mode =\\t\\t{}\".format(map.mode))\n",
    "    if map.mode == \"2D\":\n",
    "        print(\"Zoom =\\t\\t{}\\n\".format(map.zoom) + \\\n",
    "              \"Rotation =\\t{}\".format(map.rotation))\n",
    "    elif map.mode == \"3D\":\n",
    "        print(\"Zoom =\\t\\t{}\\n\".format(map.zoom) + \\\n",
    "              \"Tilt =\\t\\t{}\\n\".format(map.tilt) + \\\n",
    "              \"Heading =\\t{}\".format(map.heading))\n",
    "    else:\n",
    "        raise Exception(\"Not supported argument\")\n",
    "\n",
    "peru_map = GIS().map(\"PERU\")\n",
    "peru_map.mode = \"3D\"\n",
    "peru_map"
   ]
  },
  {
   "cell_type": "code",
   "execution_count": 9,
   "metadata": {},
   "outputs": [
    {
     "name": "stdout",
     "output_type": "stream",
     "text": [
      "Mode =\t\t3D\n",
      "Zoom =\t\t2.630250498766395\n",
      "Tilt =\t\t0.0\n",
      "Heading =\t0.13192440884800133\n"
     ]
    }
   ],
   "source": [
    "print_map_info(peru_map)"
   ]
  },
  {
   "cell_type": "code",
   "execution_count": 15,
   "metadata": {},
   "outputs": [
    {
     "data": {
      "application/vnd.jupyter.widget-view+json": {
       "model_id": "b3c9f1c2c5f345f6bc0b9d2c2271a503",
       "version_major": 2,
       "version_minor": 0
      },
      "text/plain": [
       "MapView(layout=Layout(height='400px', width='100%'), zoom=16.0)"
      ]
     },
     "metadata": {},
     "output_type": "display_data"
    },
    {
     "data": {
      "text/html": [
       "<div class=\"map-static-img-preview-ca53ff29-dce1-428a-83e2-18847d304a55\"><img src=\"\"></img></div>"
      ],
      "text/plain": [
       "<IPython.core.display.HTML object>"
      ]
     },
     "metadata": {},
     "output_type": "display_data"
    },
    {
     "name": "stdout",
     "output_type": "stream",
     "text": [
      "Avenida Javier Prado Este, Ur. San Cesar Etapa Ii, La Molina, Lima, 15012\n",
      "Colegio Antonio Raimondi\n",
      "ACENESPAR\n",
      "Avenida Javier Prado Este 101-299, Cuadra 1, Ur. Camacho, Santiago de Surco, Lima, 15023\n",
      "Avenida Javier Prado Este 101-299, Cuadra 1, Ur. Camacho, Santiago de Surco, Lima, 15023\n",
      "Jockey Plaza\n",
      "Jirón Las Moreras 300-364, Cuadra 3, Ur. Camacho, La Molina, Lima, 15023\n",
      "Calle Las Carabelas 150-198, Cuadra 1, Ur. Pablo Canepa, La Molina, Lima, 15012\n"
     ]
    }
   ],
   "source": [
    "from arcgis.gis import GIS\n",
    "import arcgis.geocoding as geocoding\n",
    "gis = GIS()\n",
    "callback_map = gis.map('Universidad San Ignacio de Loyola, La Molina, Lima, Peru', 16)\n",
    "def find_addr(callback_map, g):\n",
    "    try:\n",
    "        callback_map.draw(g)\n",
    "        geocoded = geocoding.reverse_geocode(g)\n",
    "        print(geocoded['address']['Match_addr'])\n",
    "    except:\n",
    "        print(\"Couldn't match address. Try another place...\")\n",
    "callback_map.on_click(find_addr)\n",
    "callback_map"
   ]
  },
  {
   "cell_type": "code",
   "execution_count": 16,
   "metadata": {},
   "outputs": [
    {
     "data": {
      "application/vnd.jupyter.widget-view+json": {
       "model_id": "722d78939b3a49589ba50eb5598314c0",
       "version_major": 2,
       "version_minor": 0
      },
      "text/plain": [
       "MapView(layout=Layout(height='400px', width='100%'), zoom=3.0)"
      ]
     },
     "metadata": {},
     "output_type": "display_data"
    },
    {
     "data": {
      "text/html": [
       "<div class=\"map-static-img-preview-4cf1abf0-80c4-443e-847c-3bea59704f90\"><img src=\"\"></img></div>"
      ],
      "text/plain": [
       "<IPython.core.display.HTML object>"
      ]
     },
     "metadata": {},
     "output_type": "display_data"
    }
   ],
   "source": [
    "from arcgis.gis import GIS\n",
    "from arcgis.features import FeatureLayer\n",
    "anon_gis = GIS()\n",
    "hurricane_layer = FeatureLayer(\n",
    "    url=\"https://sampleserver6.arcgisonline.com/arcgis/rest/services/Hurricanes/MapServer/0\")\n",
    "hurricane_map = anon_gis.map('Atlantic Ocean', 3)\n",
    "hurricane_map.add_layer(hurricane_layer)\n",
    "hurricane_map"
   ]
  },
  {
   "cell_type": "code",
   "execution_count": 17,
   "metadata": {},
   "outputs": [
    {
     "data": {
      "application/vnd.jupyter.widget-view+json": {
       "model_id": "ccb85e1eca38475a828f6ed2f542bdcf",
       "version_major": 2,
       "version_minor": 0
      },
      "text/plain": [
       "MapView(layout=Layout(height='400px', width='100%'), mode='3D', zoom=3.0)"
      ]
     },
     "metadata": {},
     "output_type": "display_data"
    },
    {
     "data": {
      "text/html": [
       "<div class=\"map-static-img-preview-6e48f6fd-f0d5-4404-aab0-42f988ed03b1\"><img src=\"\"></img></div>"
      ],
      "text/plain": [
       "<IPython.core.display.HTML object>"
      ]
     },
     "metadata": {},
     "output_type": "display_data"
    }
   ],
   "source": [
    "hurricane_map_3D = anon_gis.map('Atlantic Ocean', 3)\n",
    "hurricane_map_3D.mode = \"3D\"\n",
    "renderer = {\"renderer\": \"autocast\", #This tells python to use JS autocasting\n",
    "  \"type\": \"simple\",  # JS type of new SimpleRenderer()\n",
    "  \"symbol\": {\n",
    "    \"type\": \"point-3d\",  #JS type of new PointSymbol3D()\n",
    "    \"symbolLayers\": [{  \n",
    "      \"type\": \"object\",  #JS type of new ObjectSymbol3DLayer()\n",
    "      \"resource\": { \"primitive\": \"sphere\" },\n",
    "      \"width\": 50000\n",
    "    }]\n",
    "  },\n",
    "}\n",
    "\n",
    "hurricane_map_3D.add_layer(hurricane_layer, renderer)\n",
    "hurricane_map_3D"
   ]
  },
  {
   "cell_type": "code",
   "execution_count": 18,
   "metadata": {},
   "outputs": [
    {
     "data": {
      "application/vnd.jupyter.widget-view+json": {
       "model_id": "8e580a4d15d54437b1996e281a436b77",
       "version_major": 2,
       "version_minor": 0
      },
      "text/plain": [
       "MapView(layout=Layout(height='400px', width='100%'), mode='3D', zoom=3.0)"
      ]
     },
     "metadata": {},
     "output_type": "display_data"
    },
    {
     "data": {
      "text/html": [
       "<div class=\"map-static-img-preview-9fc70053-1b31-4115-85ec-800f9e93f6a6\"><img src=\"\"></img></div>"
      ],
      "text/plain": [
       "<IPython.core.display.HTML object>"
      ]
     },
     "metadata": {},
     "output_type": "display_data"
    }
   ],
   "source": [
    "\n",
    "visual_var_map = anon_gis.map('Atlantic Ocean', 3)\n",
    "visual_var_map.mode = \"3D\"\n",
    "#Update the renderer to include visual variable information\n",
    "renderer[\"visualVariables\"] = [{ #JS configuration of visualVariables\n",
    "    \"type\": \"color\",\n",
    "    \"field\": \"PRESSURE\", \n",
    "    \"stops\": [\n",
    "      { \"value\": 950, \"color\": \"red\" },\n",
    "      { \"value\": 1020, \"color\": \"blue\" }\n",
    "    ]\n",
    "  }, {\n",
    "    \"type\": \"size\",\n",
    "    \"field\": \"WINDSPEED\",\n",
    "    \"stops\": [\n",
    "      { \"value\": 20, \"size\": 60000 },\n",
    "      { \"value\": 150, \"size\": 500000 }\n",
    "    ],\n",
    "    \"axis\": \"height\"\n",
    "  }, {\n",
    "    \"type\": \"size\",\n",
    "    \"axis\": \"width-and-depth\",\n",
    "    \"useSymbolValue\": True\n",
    "  }]\n",
    "visual_var_map.add_layer(hurricane_layer, renderer)\n",
    "visual_var_map"
   ]
  },
  {
   "cell_type": "code",
   "execution_count": 19,
   "metadata": {},
   "outputs": [
    {
     "name": "stdout",
     "output_type": "stream",
     "text": [
      "html saved as C:\\Users\\practicantepresp\\Documents\\PruebasLetsgo-20190909T135818Z-001\\PruebasLetsgo\\ParaEnseñar\\PresentaciónFinal\\home\\myHurricaneMap.html\n"
     ]
    }
   ],
   "source": [
    "import os\n",
    "\n",
    "file_dir = os.path.join(os.getcwd(), 'home')\n",
    "if not os.path.isdir(file_dir):\n",
    "    os.mkdir(file_dir)\n",
    "    \n",
    "file_path = os.path.join(file_dir, 'myHurricaneMap.html')\n",
    "\n",
    "visual_var_map.export_to_html(file_path)\n",
    "print(\"html saved as \" + file_path) # On Windows, path can be 'C:\\Users\\Username\\Documents\\home\\myHurricaneMap.html'"
   ]
  },
  {
   "cell_type": "code",
   "execution_count": null,
   "metadata": {},
   "outputs": [],
   "source": []
  }
 ],
 "metadata": {
  "kernelspec": {
   "display_name": "Python 3",
   "language": "python",
   "name": "python3"
  },
  "language_info": {
   "codemirror_mode": {
    "name": "ipython",
    "version": 3
   },
   "file_extension": ".py",
   "mimetype": "text/x-python",
   "name": "python",
   "nbconvert_exporter": "python",
   "pygments_lexer": "ipython3",
   "version": "3.6.8"
  }
 },
 "nbformat": 4,
 "nbformat_minor": 2
}
